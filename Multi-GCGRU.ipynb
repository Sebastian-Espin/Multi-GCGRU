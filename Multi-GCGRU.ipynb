{
 "cells": [
  {
   "cell_type": "markdown",
   "metadata": {},
   "source": [
    "# Multi-GCGRU with american data"
   ]
  },
  {
   "cell_type": "markdown",
   "metadata": {},
   "source": [
    "## Install Dependencies"
   ]
  },
  {
   "cell_type": "code",
   "execution_count": 58,
   "metadata": {},
   "outputs": [
    {
     "name": "stdout",
     "output_type": "stream",
     "text": [
      "Requirement already satisfied: tensorflow in /Users/tristanlachance/.julia/conda/3/aarch64/lib/python3.10/site-packages (2.19.0)\n",
      "Requirement already satisfied: numpy in /Users/tristanlachance/.julia/conda/3/aarch64/lib/python3.10/site-packages (2.1.3)\n",
      "Requirement already satisfied: pandas in /Users/tristanlachance/.julia/conda/3/aarch64/lib/python3.10/site-packages (2.2.3)\n",
      "Requirement already satisfied: matplotlib in /Users/tristanlachance/.julia/conda/3/aarch64/lib/python3.10/site-packages (3.10.1)\n",
      "Requirement already satisfied: scikit-learn in /Users/tristanlachance/.julia/conda/3/aarch64/lib/python3.10/site-packages (1.6.1)\n",
      "Requirement already satisfied: yfinance in /Users/tristanlachance/.julia/conda/3/aarch64/lib/python3.10/site-packages (0.2.55)\n",
      "Requirement already satisfied: absl-py>=1.0.0 in /Users/tristanlachance/.julia/conda/3/aarch64/lib/python3.10/site-packages (from tensorflow) (2.2.2)\n",
      "Requirement already satisfied: astunparse>=1.6.0 in /Users/tristanlachance/.julia/conda/3/aarch64/lib/python3.10/site-packages (from tensorflow) (1.6.3)\n",
      "Requirement already satisfied: flatbuffers>=24.3.25 in /Users/tristanlachance/.julia/conda/3/aarch64/lib/python3.10/site-packages (from tensorflow) (25.2.10)\n",
      "Requirement already satisfied: gast!=0.5.0,!=0.5.1,!=0.5.2,>=0.2.1 in /Users/tristanlachance/.julia/conda/3/aarch64/lib/python3.10/site-packages (from tensorflow) (0.6.0)\n",
      "Requirement already satisfied: google-pasta>=0.1.1 in /Users/tristanlachance/.julia/conda/3/aarch64/lib/python3.10/site-packages (from tensorflow) (0.2.0)\n",
      "Requirement already satisfied: libclang>=13.0.0 in /Users/tristanlachance/.julia/conda/3/aarch64/lib/python3.10/site-packages (from tensorflow) (18.1.1)\n",
      "Requirement already satisfied: opt-einsum>=2.3.2 in /Users/tristanlachance/.julia/conda/3/aarch64/lib/python3.10/site-packages (from tensorflow) (3.4.0)\n",
      "Requirement already satisfied: packaging in /Users/tristanlachance/.julia/conda/3/aarch64/lib/python3.10/site-packages (from tensorflow) (24.0)\n",
      "Requirement already satisfied: protobuf!=4.21.0,!=4.21.1,!=4.21.2,!=4.21.3,!=4.21.4,!=4.21.5,<6.0.0dev,>=3.20.3 in /Users/tristanlachance/.julia/conda/3/aarch64/lib/python3.10/site-packages (from tensorflow) (5.29.4)\n",
      "Requirement already satisfied: requests<3,>=2.21.0 in /Users/tristanlachance/.julia/conda/3/aarch64/lib/python3.10/site-packages (from tensorflow) (2.31.0)\n",
      "Requirement already satisfied: setuptools in /Users/tristanlachance/.julia/conda/3/aarch64/lib/python3.10/site-packages (from tensorflow) (69.5.1)\n",
      "Requirement already satisfied: six>=1.12.0 in /Users/tristanlachance/.julia/conda/3/aarch64/lib/python3.10/site-packages (from tensorflow) (1.16.0)\n",
      "Requirement already satisfied: termcolor>=1.1.0 in /Users/tristanlachance/.julia/conda/3/aarch64/lib/python3.10/site-packages (from tensorflow) (3.0.1)\n",
      "Requirement already satisfied: typing-extensions>=3.6.6 in /Users/tristanlachance/.julia/conda/3/aarch64/lib/python3.10/site-packages (from tensorflow) (4.12.2)\n",
      "Requirement already satisfied: wrapt>=1.11.0 in /Users/tristanlachance/.julia/conda/3/aarch64/lib/python3.10/site-packages (from tensorflow) (1.17.2)\n",
      "Requirement already satisfied: grpcio<2.0,>=1.24.3 in /Users/tristanlachance/.julia/conda/3/aarch64/lib/python3.10/site-packages (from tensorflow) (1.71.0)\n",
      "Requirement already satisfied: tensorboard~=2.19.0 in /Users/tristanlachance/.julia/conda/3/aarch64/lib/python3.10/site-packages (from tensorflow) (2.19.0)\n",
      "Requirement already satisfied: keras>=3.5.0 in /Users/tristanlachance/.julia/conda/3/aarch64/lib/python3.10/site-packages (from tensorflow) (3.9.2)\n",
      "Requirement already satisfied: h5py>=3.11.0 in /Users/tristanlachance/.julia/conda/3/aarch64/lib/python3.10/site-packages (from tensorflow) (3.13.0)\n",
      "Requirement already satisfied: ml-dtypes<1.0.0,>=0.5.1 in /Users/tristanlachance/.julia/conda/3/aarch64/lib/python3.10/site-packages (from tensorflow) (0.5.1)\n",
      "Requirement already satisfied: tensorflow-io-gcs-filesystem>=0.23.1 in /Users/tristanlachance/.julia/conda/3/aarch64/lib/python3.10/site-packages (from tensorflow) (0.37.1)\n",
      "Requirement already satisfied: python-dateutil>=2.8.2 in /Users/tristanlachance/.julia/conda/3/aarch64/lib/python3.10/site-packages (from pandas) (2.9.0)\n",
      "Requirement already satisfied: pytz>=2020.1 in /Users/tristanlachance/.julia/conda/3/aarch64/lib/python3.10/site-packages (from pandas) (2024.1)\n",
      "Requirement already satisfied: tzdata>=2022.7 in /Users/tristanlachance/.julia/conda/3/aarch64/lib/python3.10/site-packages (from pandas) (2025.2)\n",
      "Requirement already satisfied: contourpy>=1.0.1 in /Users/tristanlachance/.julia/conda/3/aarch64/lib/python3.10/site-packages (from matplotlib) (1.3.2)\n",
      "Requirement already satisfied: cycler>=0.10 in /Users/tristanlachance/.julia/conda/3/aarch64/lib/python3.10/site-packages (from matplotlib) (0.12.1)\n",
      "Requirement already satisfied: fonttools>=4.22.0 in /Users/tristanlachance/.julia/conda/3/aarch64/lib/python3.10/site-packages (from matplotlib) (4.57.0)\n",
      "Requirement already satisfied: kiwisolver>=1.3.1 in /Users/tristanlachance/.julia/conda/3/aarch64/lib/python3.10/site-packages (from matplotlib) (1.4.8)\n",
      "Requirement already satisfied: pillow>=8 in /Users/tristanlachance/.julia/conda/3/aarch64/lib/python3.10/site-packages (from matplotlib) (11.2.1)\n",
      "Requirement already satisfied: pyparsing>=2.3.1 in /Users/tristanlachance/.julia/conda/3/aarch64/lib/python3.10/site-packages (from matplotlib) (3.2.3)\n",
      "Requirement already satisfied: scipy>=1.6.0 in /Users/tristanlachance/.julia/conda/3/aarch64/lib/python3.10/site-packages (from scikit-learn) (1.15.2)\n",
      "Requirement already satisfied: joblib>=1.2.0 in /Users/tristanlachance/.julia/conda/3/aarch64/lib/python3.10/site-packages (from scikit-learn) (1.4.2)\n",
      "Requirement already satisfied: threadpoolctl>=3.1.0 in /Users/tristanlachance/.julia/conda/3/aarch64/lib/python3.10/site-packages (from scikit-learn) (3.6.0)\n",
      "Requirement already satisfied: multitasking>=0.0.7 in /Users/tristanlachance/.julia/conda/3/aarch64/lib/python3.10/site-packages (from yfinance) (0.0.11)\n",
      "Requirement already satisfied: platformdirs>=2.0.0 in /Users/tristanlachance/.julia/conda/3/aarch64/lib/python3.10/site-packages (from yfinance) (4.2.0)\n",
      "Requirement already satisfied: frozendict>=2.3.4 in /Users/tristanlachance/.julia/conda/3/aarch64/lib/python3.10/site-packages (from yfinance) (2.4.6)\n",
      "Requirement already satisfied: peewee>=3.16.2 in /Users/tristanlachance/.julia/conda/3/aarch64/lib/python3.10/site-packages (from yfinance) (3.17.9)\n",
      "Requirement already satisfied: beautifulsoup4>=4.11.1 in /Users/tristanlachance/.julia/conda/3/aarch64/lib/python3.10/site-packages (from yfinance) (4.12.3)\n",
      "Requirement already satisfied: wheel<1.0,>=0.23.0 in /Users/tristanlachance/.julia/conda/3/aarch64/lib/python3.10/site-packages (from astunparse>=1.6.0->tensorflow) (0.43.0)\n",
      "Requirement already satisfied: soupsieve>1.2 in /Users/tristanlachance/.julia/conda/3/aarch64/lib/python3.10/site-packages (from beautifulsoup4>=4.11.1->yfinance) (2.5)\n",
      "Requirement already satisfied: rich in /Users/tristanlachance/.julia/conda/3/aarch64/lib/python3.10/site-packages (from keras>=3.5.0->tensorflow) (14.0.0)\n",
      "Requirement already satisfied: namex in /Users/tristanlachance/.julia/conda/3/aarch64/lib/python3.10/site-packages (from keras>=3.5.0->tensorflow) (0.0.8)\n",
      "Requirement already satisfied: optree in /Users/tristanlachance/.julia/conda/3/aarch64/lib/python3.10/site-packages (from keras>=3.5.0->tensorflow) (0.15.0)\n",
      "Requirement already satisfied: charset-normalizer<4,>=2 in /Users/tristanlachance/.julia/conda/3/aarch64/lib/python3.10/site-packages (from requests<3,>=2.21.0->tensorflow) (3.3.2)\n",
      "Requirement already satisfied: idna<4,>=2.5 in /Users/tristanlachance/.julia/conda/3/aarch64/lib/python3.10/site-packages (from requests<3,>=2.21.0->tensorflow) (3.6)\n",
      "Requirement already satisfied: urllib3<3,>=1.21.1 in /Users/tristanlachance/.julia/conda/3/aarch64/lib/python3.10/site-packages (from requests<3,>=2.21.0->tensorflow) (2.2.1)\n",
      "Requirement already satisfied: certifi>=2017.4.17 in /Users/tristanlachance/.julia/conda/3/aarch64/lib/python3.10/site-packages (from requests<3,>=2.21.0->tensorflow) (2024.7.4)\n",
      "Requirement already satisfied: markdown>=2.6.8 in /Users/tristanlachance/.julia/conda/3/aarch64/lib/python3.10/site-packages (from tensorboard~=2.19.0->tensorflow) (3.8)\n",
      "Requirement already satisfied: tensorboard-data-server<0.8.0,>=0.7.0 in /Users/tristanlachance/.julia/conda/3/aarch64/lib/python3.10/site-packages (from tensorboard~=2.19.0->tensorflow) (0.7.2)\n",
      "Requirement already satisfied: werkzeug>=1.0.1 in /Users/tristanlachance/.julia/conda/3/aarch64/lib/python3.10/site-packages (from tensorboard~=2.19.0->tensorflow) (3.1.3)\n",
      "Requirement already satisfied: MarkupSafe>=2.1.1 in /Users/tristanlachance/.julia/conda/3/aarch64/lib/python3.10/site-packages (from werkzeug>=1.0.1->tensorboard~=2.19.0->tensorflow) (2.1.5)\n",
      "Requirement already satisfied: markdown-it-py>=2.2.0 in /Users/tristanlachance/.julia/conda/3/aarch64/lib/python3.10/site-packages (from rich->keras>=3.5.0->tensorflow) (3.0.0)\n",
      "Requirement already satisfied: pygments<3.0.0,>=2.13.0 in /Users/tristanlachance/.julia/conda/3/aarch64/lib/python3.10/site-packages (from rich->keras>=3.5.0->tensorflow) (2.18.0)\n",
      "Requirement already satisfied: mdurl~=0.1 in /Users/tristanlachance/.julia/conda/3/aarch64/lib/python3.10/site-packages (from markdown-it-py>=2.2.0->rich->keras>=3.5.0->tensorflow) (0.1.2)\n"
     ]
    }
   ],
   "source": [
    "!pip install tensorflow numpy pandas matplotlib scikit-learn yfinance"
   ]
  },
  {
   "cell_type": "code",
   "execution_count": 59,
   "metadata": {},
   "outputs": [],
   "source": [
    "import tensorflow as tf\n",
    "import numpy as np\n",
    "import pandas as pd\n",
    "import matplotlib.pyplot as plt\n",
    "from sklearn.model_selection import train_test_split"
   ]
  },
  {
   "cell_type": "code",
   "execution_count": 60,
   "metadata": {},
   "outputs": [],
   "source": [
    "CSV_EDGES     = \"data/assets/business_relationship_graph.csv\"\n",
    "CSV_INDUSTRY  = \"data/assets/american_industry.csv\"\n",
    "CSV_HOLDERS   = \"data/assets/yahoo_finance_shareholders.csv\"\n",
    "\n",
    "USE_GCN_NORM  = True          # normalisation Â = D⁻¹ᐟ²(A+I)D⁻¹ᐟ² ?\n",
    "Units_GCN     = [16, 32]      # tailles des couches GCN\n",
    "Units_GRU     = [16, 32]      # tailles des couches GRU\n",
    "Units_FC      = [1]           # taille de la couche fully‑connected\n",
    "Matrix_Weights = [1, 1, 1]    # pondérations des graphes\n",
    "Is_Dyn        = False         # « graphe fixe » (comme le papier)\n",
    "M_SAMPLES     = 1000          # démo\n",
    "P_STEPS       = 10\n",
    "F_FEAT        = 8\n",
    "\n",
    "EPOCHS        = 10            # démo\n",
    "BATCH_SIZE    = 32\n",
    "SEED          = 5\n"
   ]
  },
  {
   "cell_type": "markdown",
   "metadata": {},
   "source": [
    "# Section 1 : Data preprocess"
   ]
  },
  {
   "cell_type": "code",
   "execution_count": 61,
   "metadata": {},
   "outputs": [
    {
     "name": "stdout",
     "output_type": "stream",
     "text": [
      "Shapes -> T (50, 50) I (50, 50) S (50, 50)\n"
     ]
    }
   ],
   "source": [
    "edges   = pd.read_csv(CSV_EDGES)\n",
    "meta    = pd.read_csv(CSV_INDUSTRY)\n",
    "holders = pd.read_csv(CSV_HOLDERS)\n",
    "\n",
    "tickers = sorted(set(edges['Source']) | set(edges['Target']) |\n",
    "                 set(meta['symbol'])  | set(holders['Ticker']))\n",
    "idx = {t:i for i,t in enumerate(tickers)}\n",
    "N  = len(tickers)\n",
    "\n",
    "# -- T : relations business --------------------------------------------------------\n",
    "T = np.zeros((N, N), dtype=np.float32)\n",
    "for _, r in edges.iterrows():\n",
    "    i, j = idx[r['Source']], idx[r['Target']]\n",
    "    T[i, j] = T[j, i] = 1.0\n",
    "\n",
    "# -- I : même secteur -------------------------------------------------------------\n",
    "sector = meta.set_index('symbol')['sector']\n",
    "sec_vec = sector.reindex(tickers)\n",
    "I = (sec_vec.values[:, None] == sec_vec.values[None, :]).astype(np.float32)\n",
    "\n",
    "# -- S : actionnaires communs ------------------------------------------------------\n",
    "share_sets = holders.groupby('Ticker')['Stockholder'].apply(set).to_dict()\n",
    "S = np.zeros((N, N), dtype=np.float32)\n",
    "for i, ti in enumerate(tickers):\n",
    "    for j in range(i, N):\n",
    "        common = share_sets.get(ti,set()) & share_sets.get(j,set())\n",
    "        if common:\n",
    "            w = len(common)\n",
    "            S[i,j] = S[j,i] = w\n",
    "\n",
    "print(\"Shapes -> T\",T.shape,\"I\",I.shape,\"S\",S.shape)"
   ]
  },
  {
   "cell_type": "code",
   "execution_count": 62,
   "metadata": {},
   "outputs": [],
   "source": [
    "def gcn_norm(A):\n",
    "    A = A + np.eye(A.shape[0], dtype=np.float32)\n",
    "    d = A.sum(1)\n",
    "    d_inv = np.power(d, -0.5, where=d>0)\n",
    "    D = np.diag(d_inv)\n",
    "    return D @ A @ D\n",
    "\n",
    "Fixed_Matrices = [\n",
    "    tf.constant(gcn_norm(S) if USE_GCN_NORM else S, dtype=tf.float32),\n",
    "    tf.constant(gcn_norm(I) if USE_GCN_NORM else I, dtype=tf.float32),\n",
    "    tf.constant(gcn_norm(T) if USE_GCN_NORM else T, dtype=tf.float32),\n",
    "]\n",
    "\n",
    "rng = np.random.default_rng(SEED)\n",
    "samples = rng.normal(size=(M_SAMPLES, P_STEPS, N, F_FEAT)).astype(np.float32)\n",
    "labels  = rng.binomial(1, 0.5, size=(M_SAMPLES, N)).astype(np.float32)  # cible binaire\n",
    "\n",
    "x_tr, x_tmp, y_tr, y_tmp = train_test_split(samples, labels,\n",
    "                                            test_size=0.30, random_state=SEED)\n",
    "x_val, x_te, y_val, y_te = train_test_split(x_tmp, y_tmp,\n",
    "                                            test_size=0.33, random_state=SEED)\n",
    "\n",
    "# numpy → tensors\n",
    "x_tr  = tf.constant(x_tr);   y_tr  = tf.constant(y_tr)\n",
    "x_val = tf.constant(x_val);  y_val = tf.constant(y_val)\n",
    "x_te  = tf.constant(x_te);   y_te  = tf.constant(y_te)"
   ]
  },
  {
   "cell_type": "markdown",
   "metadata": {},
   "source": [
    "# Section 2 : Multi-GCGRU"
   ]
  },
  {
   "cell_type": "code",
   "execution_count": 63,
   "metadata": {},
   "outputs": [],
   "source": [
    "class GCGRU(tf.keras.Model):\n",
    "    def __init__(self, N, F, Units_GCN, Units_GRU, Units_FC,\n",
    "                 Fixed_Matrices, Matrix_Weights, Is_Dyn,\n",
    "                 kernel_initializer='glorot_uniform',\n",
    "                 bias_initializer='zeros'):\n",
    "        super().__init__()\n",
    "        self.N = N; self.F = F; self.mat = Fixed_Matrices\n",
    "        self.dyn = self.add_weight(name='w_Dynamic', shape=(N,N),\n",
    "                                   initializer=kernel_initializer, trainable=True)\n",
    "        if Is_Dyn:\n",
    "            self.mats = self.dyn\n",
    "        else:\n",
    "            self.mats = self.add_weight(name='w_Matrices', shape=(N,N),\n",
    "                                        initializer=kernel_initializer, trainable=True)\n",
    "            for i in range(len(Matrix_Weights)):\n",
    "                coe = tf.Variable(1.0, trainable=True)\n",
    "                self.mats = self.mats + Matrix_Weights[i]*self.mat[i]*coe\n",
    "        # ---------- GCN ----------\n",
    "        self.units_gcn, self.w_gcn, self.b_gcn = Units_GCN, [], []\n",
    "        pre = F\n",
    "        for u in Units_GCN:\n",
    "            self.w_gcn.append(self.add_weight(shape=(pre,u),\n",
    "                             initializer=kernel_initializer, trainable=True))\n",
    "            self.b_gcn.append(self.add_weight(shape=(u,),\n",
    "                             initializer=bias_initializer, trainable=True))\n",
    "            pre = u\n",
    "        # ---------- GRU ----------\n",
    "        self.units_gru, self.w_gru, self.b_gru = Units_GRU, [], []\n",
    "        C, Fcurr = Units_GCN[-1], F\n",
    "        for H in Units_GRU[:-1]:\n",
    "            pre = Fcurr + C + H\n",
    "            for _ in range(3):                      # z, r, h~\n",
    "                self.w_gru.append(self.add_weight(shape=(pre,H),\n",
    "                                   initializer=kernel_initializer, trainable=True))\n",
    "                self.b_gru.append(self.add_weight(shape=(H,),\n",
    "                                   initializer=bias_initializer, trainable=True))\n",
    "            Fcurr = H\n",
    "        # dernière projection GRU\n",
    "        H_last, G = Units_GRU[-2], Units_GRU[-1]\n",
    "        self.w_gru.append(self.add_weight(shape=(H_last,G),\n",
    "                           initializer=kernel_initializer, trainable=True))\n",
    "        self.b_gru.append(self.add_weight(shape=(G,),\n",
    "                           initializer=bias_initializer, trainable=True))\n",
    "        # ---------- FC ----------\n",
    "        self.units_fc, self.w_fc, self.b_fc = Units_FC, [], []\n",
    "        pre = G\n",
    "        for u in Units_FC:\n",
    "            self.w_fc.append(self.add_weight(shape=(pre,u),\n",
    "                             initializer=kernel_initializer, trainable=True))\n",
    "            self.b_fc.append(self.add_weight(shape=(u,),\n",
    "                             initializer=bias_initializer, trainable=True))\n",
    "            pre = u\n",
    "\n",
    "    # ------ sous‑blocs ------\n",
    "    def Multi_GCN(self, x):\n",
    "        P = x.shape[1]; out = []\n",
    "        for t in range(P):\n",
    "            h = x[:,t,:,:]                         # (batch,N,F)\n",
    "            for l in range(len(self.units_gcn)):\n",
    "                h = tf.tanh(self.mats @ h @ self.w_gcn[l] + self.b_gcn[l])\n",
    "            out.append(h)\n",
    "        return tf.stack(out, axis=1)               # (batch,P,N,C)\n",
    "\n",
    "    def GRU(self, x, x_gcn):\n",
    "        h_gru = [ tf.zeros_like(x[:,0,:,:]) @ tf.zeros([self.F,self.units_gru[i]])\n",
    "                  for i in range(len(self.units_gru)-1) ]\n",
    "        for t in range(x.shape[1]):\n",
    "            xt, xt_gcn = x[:,t,:,:], x_gcn[:,t,:,:]\n",
    "            for i,H in enumerate(self.units_gru[:-1]):\n",
    "                h_prev = h_gru[i]\n",
    "                concat = tf.concat([xt, xt_gcn, h_prev], axis=2)\n",
    "                z = tf.sigmoid(concat @ self.w_gru[3*i+0] + self.b_gru[3*i+0])\n",
    "                r = tf.sigmoid(concat @ self.w_gru[3*i+1] + self.b_gru[3*i+1])\n",
    "                h_hat = tf.tanh(tf.concat([xt, xt_gcn, r*h_prev], axis=2)\n",
    "                                @ self.w_gru[3*i+2] + self.b_gru[3*i+2])\n",
    "                h = z*h_prev + (1-z)*h_hat\n",
    "                h_gru[i] = xt = h\n",
    "        x_gru = tf.sigmoid(h @ self.w_gru[-1] + self.b_gru[-1])  # (batch,N,G)\n",
    "        return x_gru\n",
    "\n",
    "    def FC(self, x):\n",
    "        for l in range(len(self.w_fc)):\n",
    "            x = tf.sigmoid(x @ self.w_fc[l] + self.b_fc[l])\n",
    "        return tf.squeeze(x, axis=-1)              # (batch,N)\n",
    "\n",
    "    # ------ appel complet ------\n",
    "    def call(self, x):\n",
    "        x_gcn = self.Multi_GCN(x)\n",
    "        x_gru = self.GRU(x, x_gcn)\n",
    "        return self.FC(x_gru)"
   ]
  },
  {
   "cell_type": "markdown",
   "metadata": {},
   "source": [
    "# Section 3 : Build the model"
   ]
  },
  {
   "cell_type": "code",
   "execution_count": 64,
   "metadata": {},
   "outputs": [
    {
     "data": {
      "text/html": [
       "<pre style=\"white-space:pre;overflow-x:auto;line-height:normal;font-family:Menlo,'DejaVu Sans Mono',consolas,'Courier New',monospace\"><span style=\"font-weight: bold\">Model: \"gcgru_6\"</span>\n",
       "</pre>\n"
      ],
      "text/plain": [
       "\u001b[1mModel: \"gcgru_6\"\u001b[0m\n"
      ]
     },
     "metadata": {},
     "output_type": "display_data"
    },
    {
     "data": {
      "text/html": [
       "<pre style=\"white-space:pre;overflow-x:auto;line-height:normal;font-family:Menlo,'DejaVu Sans Mono',consolas,'Courier New',monospace\">┏━━━━━━━━━━━━━━━━━━━━━━━━━━━━━━━━━┳━━━━━━━━━━━━━━━━━━━━━━━━┳━━━━━━━━━━━━━━━┓\n",
       "┃<span style=\"font-weight: bold\"> Layer (type)                    </span>┃<span style=\"font-weight: bold\"> Output Shape           </span>┃<span style=\"font-weight: bold\">       Param # </span>┃\n",
       "┡━━━━━━━━━━━━━━━━━━━━━━━━━━━━━━━━━╇━━━━━━━━━━━━━━━━━━━━━━━━╇━━━━━━━━━━━━━━━┩\n",
       "└─────────────────────────────────┴────────────────────────┴───────────────┘\n",
       "</pre>\n"
      ],
      "text/plain": [
       "┏━━━━━━━━━━━━━━━━━━━━━━━━━━━━━━━━━┳━━━━━━━━━━━━━━━━━━━━━━━━┳━━━━━━━━━━━━━━━┓\n",
       "┃\u001b[1m \u001b[0m\u001b[1mLayer (type)                   \u001b[0m\u001b[1m \u001b[0m┃\u001b[1m \u001b[0m\u001b[1mOutput Shape          \u001b[0m\u001b[1m \u001b[0m┃\u001b[1m \u001b[0m\u001b[1m      Param #\u001b[0m\u001b[1m \u001b[0m┃\n",
       "┡━━━━━━━━━━━━━━━━━━━━━━━━━━━━━━━━━╇━━━━━━━━━━━━━━━━━━━━━━━━╇━━━━━━━━━━━━━━━┩\n",
       "└─────────────────────────────────┴────────────────────────┴───────────────┘\n"
      ]
     },
     "metadata": {},
     "output_type": "display_data"
    },
    {
     "data": {
      "text/html": [
       "<pre style=\"white-space:pre;overflow-x:auto;line-height:normal;font-family:Menlo,'DejaVu Sans Mono',consolas,'Courier New',monospace\"><span style=\"font-weight: bold\"> Total params: </span><span style=\"color: #00af00; text-decoration-color: #00af00\">9,001</span> (35.16 KB)\n",
       "</pre>\n"
      ],
      "text/plain": [
       "\u001b[1m Total params: \u001b[0m\u001b[38;5;34m9,001\u001b[0m (35.16 KB)\n"
      ]
     },
     "metadata": {},
     "output_type": "display_data"
    },
    {
     "data": {
      "text/html": [
       "<pre style=\"white-space:pre;overflow-x:auto;line-height:normal;font-family:Menlo,'DejaVu Sans Mono',consolas,'Courier New',monospace\"><span style=\"font-weight: bold\"> Trainable params: </span><span style=\"color: #00af00; text-decoration-color: #00af00\">9,001</span> (35.16 KB)\n",
       "</pre>\n"
      ],
      "text/plain": [
       "\u001b[1m Trainable params: \u001b[0m\u001b[38;5;34m9,001\u001b[0m (35.16 KB)\n"
      ]
     },
     "metadata": {},
     "output_type": "display_data"
    },
    {
     "data": {
      "text/html": [
       "<pre style=\"white-space:pre;overflow-x:auto;line-height:normal;font-family:Menlo,'DejaVu Sans Mono',consolas,'Courier New',monospace\"><span style=\"font-weight: bold\"> Non-trainable params: </span><span style=\"color: #00af00; text-decoration-color: #00af00\">0</span> (0.00 B)\n",
       "</pre>\n"
      ],
      "text/plain": [
       "\u001b[1m Non-trainable params: \u001b[0m\u001b[38;5;34m0\u001b[0m (0.00 B)\n"
      ]
     },
     "metadata": {},
     "output_type": "display_data"
    }
   ],
   "source": [
    "# instanciation\n",
    "model = GCGRU(N, F_FEAT, Units_GCN, Units_GRU, Units_FC,\n",
    "              Fixed_Matrices, Matrix_Weights, Is_Dyn)\n",
    "model.build((None, P_STEPS, N, F_FEAT))\n",
    "model.summary()"
   ]
  },
  {
   "cell_type": "markdown",
   "metadata": {},
   "source": [
    "# Section 4 : Train the model"
   ]
  },
  {
   "cell_type": "code",
   "execution_count": 65,
   "metadata": {},
   "outputs": [
    {
     "name": "stdout",
     "output_type": "stream",
     "text": [
      "Epoch 1/10\n"
     ]
    },
    {
     "name": "stderr",
     "output_type": "stream",
     "text": [
      "/Users/tristanlachance/.julia/conda/3/aarch64/lib/python3.10/site-packages/keras/src/optimizers/base_optimizer.py:774: UserWarning: Gradients do not exist for variables ['gcgru_6/w_Dynamic', 'gcgru_6/w_Matrices'] when minimizing the loss. If using `model.compile()`, did you forget to provide a `loss` argument?\n",
      "  warnings.warn(\n"
     ]
    },
    {
     "name": "stdout",
     "output_type": "stream",
     "text": [
      "22/22 - 3s - 132ms/step - binary_accuracy: 0.4928 - loss: 0.6966 - val_binary_accuracy: 0.5103 - val_loss: 0.6935\n",
      "Epoch 2/10\n",
      "22/22 - 0s - 15ms/step - binary_accuracy: 0.5032 - loss: 0.6937 - val_binary_accuracy: 0.5089 - val_loss: 0.6931\n",
      "Epoch 3/10\n",
      "22/22 - 0s - 14ms/step - binary_accuracy: 0.5075 - loss: 0.6932 - val_binary_accuracy: 0.5066 - val_loss: 0.6930\n",
      "Epoch 4/10\n",
      "22/22 - 0s - 14ms/step - binary_accuracy: 0.5120 - loss: 0.6929 - val_binary_accuracy: 0.5041 - val_loss: 0.6931\n",
      "Epoch 5/10\n",
      "22/22 - 0s - 18ms/step - binary_accuracy: 0.5164 - loss: 0.6927 - val_binary_accuracy: 0.5087 - val_loss: 0.6931\n",
      "Epoch 6/10\n",
      "22/22 - 0s - 21ms/step - binary_accuracy: 0.5169 - loss: 0.6925 - val_binary_accuracy: 0.5015 - val_loss: 0.6933\n",
      "Epoch 7/10\n",
      "22/22 - 0s - 22ms/step - binary_accuracy: 0.5175 - loss: 0.6923 - val_binary_accuracy: 0.5016 - val_loss: 0.6933\n",
      "Epoch 8/10\n",
      "22/22 - 1s - 24ms/step - binary_accuracy: 0.5217 - loss: 0.6920 - val_binary_accuracy: 0.5004 - val_loss: 0.6934\n",
      "Epoch 9/10\n",
      "22/22 - 0s - 22ms/step - binary_accuracy: 0.5244 - loss: 0.6917 - val_binary_accuracy: 0.4963 - val_loss: 0.6936\n",
      "Epoch 10/10\n",
      "22/22 - 0s - 21ms/step - binary_accuracy: 0.5229 - loss: 0.6914 - val_binary_accuracy: 0.4999 - val_loss: 0.6941\n"
     ]
    },
    {
     "data": {
      "image/png": "[encoded data removed]",
      "text/plain": [
       "<Figure size 640x480 with 1 Axes>"
      ]
     },
     "metadata": {},
     "output_type": "display_data"
    },
    {
     "name": "stdout",
     "output_type": "stream",
     "text": [
      "Test metrics : [0.6937881708145142, 0.508888840675354]\n"
     ]
    }
   ],
   "source": [
    "model.compile(optimizer=\"adam\",\n",
    "              loss=\"binary_crossentropy\",\n",
    "              metrics=[tf.keras.metrics.BinaryAccuracy()])\n",
    "\n",
    "history = model.fit(x_tr, y_tr,\n",
    "                    validation_data=(x_val, y_val),\n",
    "                    epochs=EPOCHS,\n",
    "                    batch_size=BATCH_SIZE,\n",
    "                    verbose=2)\n",
    "\n",
    "plt.plot(history.history[\"loss\"], label=\"train\")\n",
    "plt.plot(history.history[\"val_loss\"], label=\"val\")\n",
    "plt.legend(); plt.title(\"Loss\"); plt.show()\n",
    "\n",
    "print(\"Test metrics :\", model.evaluate(x_te, y_te, verbose=0))"
   ]
  }
 ],
 "metadata": {
  "kernelspec": {
   "display_name": "base",
   "language": "python",
   "name": "python3"
  },
  "language_info": {
   "codemirror_mode": {
    "name": "ipython",
    "version": 3
   },
   "file_extension": ".py",
   "mimetype": "text/x-python",
   "name": "python",
   "nbconvert_exporter": "python",
   "pygments_lexer": "ipython3",
   "version": "3.10.14"
  }
 },
 "nbformat": 4,
 "nbformat_minor": 2
}
